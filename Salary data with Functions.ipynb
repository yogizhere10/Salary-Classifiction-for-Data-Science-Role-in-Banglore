{
 "cells": [
  {
   "cell_type": "code",
   "execution_count": 14,
   "id": "ff094dc5",
   "metadata": {},
   "outputs": [],
   "source": [
    "import numpy as np\n",
    "import pandas as pd\n",
    "from sklearn.feature_selection import SelectKBest\n",
    "from sklearn.feature_selection import chi2\n",
    "from sklearn.preprocessing import LabelEncoder\n",
    "from sklearn.preprocessing import StandardScaler\n",
    "from imblearn.over_sampling import RandomOverSampler\n",
    "from sklearn.linear_model import LogisticRegression\n",
    "from sklearn.metrics import confusion_matrix, accuracy_score, classification_report"
   ]
  },
  {
   "cell_type": "code",
   "execution_count": 15,
   "id": "7087c678",
   "metadata": {},
   "outputs": [],
   "source": [
    "df = pd.read_csv('salarydata.csv')"
   ]
  },
  {
   "cell_type": "code",
   "execution_count": 16,
   "id": "6387685b",
   "metadata": {},
   "outputs": [
    {
     "data": {
      "text/plain": [
       "Index(['age', 'workclass', 'fnlwgt', 'education', 'education-num',\n",
       "       'marital-status', 'occupation', 'relationship', 'race', 'sex',\n",
       "       'capital-gain', 'capital-loss', 'hours-per-week', 'native-country',\n",
       "       'income'],\n",
       "      dtype='object')"
      ]
     },
     "execution_count": 16,
     "metadata": {},
     "output_type": "execute_result"
    }
   ],
   "source": [
    "df.columns"
   ]
  },
  {
   "cell_type": "code",
   "execution_count": 17,
   "id": "e3061c8a",
   "metadata": {},
   "outputs": [],
   "source": [
    "def object_numeric_bifurcation(df):\n",
    "    object = [feature for feature in df.columns if df[feature].dtypes == 'O' and feature not in 'income']\n",
    "    \n",
    "    numeric = [feature for feature in df.columns if df[feature].dtypes != 'O']\n",
    "    \n",
    "    return object, numeric"
   ]
  },
  {
   "cell_type": "code",
   "execution_count": 18,
   "id": "7b406aaf",
   "metadata": {},
   "outputs": [],
   "source": [
    "object, numeric = object_numeric_bifurcation(df)"
   ]
  },
  {
   "cell_type": "code",
   "execution_count": 19,
   "id": "585847e7",
   "metadata": {},
   "outputs": [],
   "source": [
    "def feature_engineering(df):\n",
    "    feature = df['native-country'].value_counts().sort_values(ascending = False).tail(20).index\n",
    "    \n",
    "    df['native-country'] = np.where(df['native-country'].isin([' Japan', ' Laos', ' Columbia', ' Iran', ' Thailand', ' Yugoslavia',\n",
    "       ' Peru', ' Portugal', ' Greece', ' Nicaragua', ' Trinadad&Tobago',\n",
    "       ' Ireland', ' Cambodia', ' Ecuador', ' Outlying-US(Guam-USVI-etc)',\n",
    "       ' Scotland', ' Hungary', ' Hong', ' Holand-Netherlands', ' France']), 'All', df['native-country'])\n",
    "    df['education'] = np.where(df['education'].isin([' 1st-4th', ' 5th-6th', ' 7th-8th', ' 9th']), 'School', df['education'])\n",
    "    \n",
    "    df.drop('fnlwgt', axis = 1, inplace = True)\n",
    "    \n",
    "    df['capital-gain'] = np.where(df['capital-gain'] < 0, 0, df['capital-gain'])\n",
    "    df['capital-loss'] = np.where(df['capital-loss'] < 0, 0, df['capital-loss'])\n",
    "    \n",
    "    df['income'] = np.where(df['income'] == ' <=50K', 1, 0)\n",
    "    \n",
    "    return df"
   ]
  },
  {
   "cell_type": "code",
   "execution_count": 20,
   "id": "33753641",
   "metadata": {},
   "outputs": [],
   "source": [
    "df = feature_engineering(df)"
   ]
  },
  {
   "cell_type": "code",
   "execution_count": 21,
   "id": "a4c11eb8",
   "metadata": {},
   "outputs": [],
   "source": [
    "def ohe(df):\n",
    "    from sklearn.preprocessing import LabelEncoder\n",
    "    from sklearn.preprocessing import OneHotEncoder\n",
    "    for feature in object:\n",
    "        df[feature] = LabelEncoder().fit_transform(df[feature])\n",
    "    \n",
    "    final_encoded = []\n",
    "    for feature in object:\n",
    "        encoded_data = OneHotEncoder().fit_transform(df[feature].values.reshape(-1,1)).toarray()\n",
    "        n = df[feature].nunique()\n",
    "        cols = ['{}_{}'.format(feature, n) for n in range(1, n+1)]\n",
    "        encoded_df = pd.DataFrame(encoded_data, columns = cols)\n",
    "        encoded_df.index = df.index\n",
    "        final_encoded.append(encoded_df)\n",
    "    final_data = pd.concat([df, *final_encoded], axis = 1)\n",
    "    \n",
    "    return final_data"
   ]
  },
  {
   "cell_type": "code",
   "execution_count": 22,
   "id": "4b9a90a8",
   "metadata": {},
   "outputs": [],
   "source": [
    "final_data = ohe(df)"
   ]
  },
  {
   "cell_type": "code",
   "execution_count": 25,
   "id": "79e5361e",
   "metadata": {},
   "outputs": [],
   "source": [
    "def data_segregation(df):\n",
    "    df.drop(object, axis = 1, inplace = True)\n",
    "    \n",
    "    x = df.drop('income', axis = 1)\n",
    "    y = df.iloc[:, -1]\n",
    "    \n",
    "    return x, y"
   ]
  },
  {
   "cell_type": "code",
   "execution_count": 26,
   "id": "33a3c8db",
   "metadata": {},
   "outputs": [],
   "source": [
    "x, y = data_segregation(final_data)"
   ]
  },
  {
   "cell_type": "code",
   "execution_count": 29,
   "id": "a7ac5606",
   "metadata": {},
   "outputs": [],
   "source": [
    "def selection_of_variables(x, y, final_data):\n",
    "    from sklearn.feature_selection import SelectKBest\n",
    "    from sklearn.feature_selection import chi2\n",
    "    \n",
    "    best_features = SelectKBest(score_func = chi2, k = 'all')\n",
    "    \n",
    "    fit = best_features.fit(x, y)\n",
    "    \n",
    "    df_scores = pd.DataFrame(fit.scores_)\n",
    "    dfcol = pd.DataFrame(x.columns)\n",
    "    \n",
    "    feature_score = pd.concat([df_scores, dfcol], axis = 1)\n",
    "    feature_score.columns = ['score', 'variable']\n",
    "    \n",
    "    final = feature_score.groupby('variable').sum().sort_values(by = 'score', ascending = False).head(40).index\n",
    "    \n",
    "    new_data = final_data[final]\n",
    "    \n",
    "    return new_data, final\n",
    "    "
   ]
  },
  {
   "cell_type": "code",
   "execution_count": 30,
   "id": "e6ed1f8d",
   "metadata": {},
   "outputs": [],
   "source": [
    "new_data, final = selection_of_variables(x, y, final_data)"
   ]
  },
  {
   "cell_type": "code",
   "execution_count": 33,
   "id": "a97efe4e",
   "metadata": {},
   "outputs": [],
   "source": [
    "def scaling(new_data):\n",
    "    from sklearn.preprocessing import StandardScaler\n",
    "    sc = StandardScaler()\n",
    "    new_data = sc.fit_transform(new_data)\n",
    "    \n",
    "    return new_data"
   ]
  },
  {
   "cell_type": "code",
   "execution_count": 34,
   "id": "f9c07df1",
   "metadata": {},
   "outputs": [],
   "source": [
    "new_data = scaling(new_data)"
   ]
  },
  {
   "cell_type": "code",
   "execution_count": 35,
   "id": "8f1920fb",
   "metadata": {},
   "outputs": [],
   "source": [
    "def data_balance(new_data, y):\n",
    "    from imblearn.over_sampling import RandomOverSampler\n",
    "    os = RandomOverSampler(0.4)\n",
    "    xover, yover = os.fit_resample(new_data, y)\n",
    "    \n",
    "    return xover, yover"
   ]
  },
  {
   "cell_type": "code",
   "execution_count": 36,
   "id": "1f869b70",
   "metadata": {},
   "outputs": [
    {
     "name": "stderr",
     "output_type": "stream",
     "text": [
      "C:\\Users\\Yogesh\\anaconda3\\lib\\site-packages\\imblearn\\utils\\_validation.py:587: FutureWarning: Pass sampling_strategy=0.4 as keyword args. From version 0.9 passing these as positional arguments will result in an error\n",
      "  warnings.warn(\n"
     ]
    }
   ],
   "source": [
    "xover, yover = data_balance(new_data, y)"
   ]
  },
  {
   "cell_type": "code",
   "execution_count": 39,
   "id": "8a8d7b0d",
   "metadata": {},
   "outputs": [],
   "source": [
    "def over_sampling_values(y, yover):\n",
    "    \n",
    "    from collections import Counter\n",
    "    print('Before sampling:{}'.format(Counter(y)))\n",
    "    print('After sampling:{}'.format(Counter(yover)))"
   ]
  },
  {
   "cell_type": "code",
   "execution_count": 40,
   "id": "b05598aa",
   "metadata": {},
   "outputs": [
    {
     "name": "stdout",
     "output_type": "stream",
     "text": [
      "Before sampling:Counter({0.0: 18739, 1.0: 205})\n",
      "After sampling:Counter({0.0: 18739, 1.0: 7495})\n"
     ]
    }
   ],
   "source": [
    "over_sampling_values(y, yover)"
   ]
  },
  {
   "cell_type": "code",
   "execution_count": 51,
   "id": "7d2e06e4",
   "metadata": {},
   "outputs": [],
   "source": [
    "def classification_model(xover, yover):\n",
    "    \n",
    "    from sklearn.linear_model import LogisticRegression\n",
    "    \n",
    "    classifier = LogisticRegression()\n",
    "    \n",
    "    from sklearn.model_selection import train_test_split\n",
    "    xtrain, xtest, ytrain, ytest = train_test_split(xover, yover,stratify = yover, test_size = 0.2, random_state = 0)\n",
    "    \n",
    "    classifier.fit(xtrain, ytrain)\n",
    "    \n",
    "    ypred = classifier.predict(xtest)\n",
    "    \n",
    "    from sklearn.metrics import confusion_matrix, accuracy_score, classification_report\n",
    "    \n",
    "    print(\"Confusion Matrix{}\".format(confusion_matrix(ytest, ypred)))\n",
    "    print(\"Classification Report {}\".format(classification_report(ytest, ypred)))\n",
    "    print(\"Accuracy Score {}\".format(accuracy_score(ytest, ypred)))"
   ]
  },
  {
   "cell_type": "code",
   "execution_count": 53,
   "id": "3e717315",
   "metadata": {},
   "outputs": [
    {
     "name": "stdout",
     "output_type": "stream",
     "text": [
      "Confusion Matrix[[3748    0]\n",
      " [   0 1499]]\n",
      "Classification Report               precision    recall  f1-score   support\n",
      "\n",
      "         0.0       1.00      1.00      1.00      3748\n",
      "         1.0       1.00      1.00      1.00      1499\n",
      "\n",
      "    accuracy                           1.00      5247\n",
      "   macro avg       1.00      1.00      1.00      5247\n",
      "weighted avg       1.00      1.00      1.00      5247\n",
      "\n",
      "Accuracy Score 1.0\n"
     ]
    }
   ],
   "source": [
    "classification_model(xover, yover)"
   ]
  },
  {
   "cell_type": "code",
   "execution_count": null,
   "id": "77baba34",
   "metadata": {},
   "outputs": [],
   "source": []
  }
 ],
 "metadata": {
  "kernelspec": {
   "display_name": "Python 3",
   "language": "python",
   "name": "python3"
  },
  "language_info": {
   "codemirror_mode": {
    "name": "ipython",
    "version": 3
   },
   "file_extension": ".py",
   "mimetype": "text/x-python",
   "name": "python",
   "nbconvert_exporter": "python",
   "pygments_lexer": "ipython3",
   "version": "3.8.8"
  }
 },
 "nbformat": 4,
 "nbformat_minor": 5
}
